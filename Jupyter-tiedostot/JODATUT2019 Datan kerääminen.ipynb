{
 "cells": [
  {
   "cell_type": "markdown",
   "metadata": {},
   "source": [
    "# JODATUT2019 Datan kerääminen\n",
    "```\n",
    "Nimi: Petri Salminen\n",
    "Opnum: 243840\n",
    "Email: petri.salminen@tuni.fi\n",
    "```\n",
    "\n",
    "Aloin miettimään ongelmalähtöisesti harjoitustyöni aihetta. Päädyin siihen, että haluaisin automatisoida \"outojen\" ja \"epäilyttävien\" pyyntöjen löytämisen verkkopalvelimen lokidatasta. Saatan pystyä hyödyntämään tätä töissäni, joten turhaa työtä tuskin tulee tehtyä kumminkaan.\n",
    "\n",
    "Näen kuitenkin liian monimutkaiseksi (lakisyistä) hyödyntää oman yritykseni dataa, joten piti lähteä etsimään dataa jostain muualta. Kagglesta onneksi löysin [shawon10/web-log-dataset](https://www.kaggle.com/shawon10/web-log-dataset), joka on ilmeisesti aika pieni, mutta haluan vähintäänkin yrittää saada siitä jotain irti.\n",
    "\n",
    "Asennetaan datasetti hyödyntäen [kaggle APIa](https://github.com/Kaggle/kaggle-api). Asetuksista on ensin luotava token, jotta APIa voi hyödyntää. Se pitää laittaa (esim. minun linux-asennuksessani) polkuun `~/.kaggle/kaggle.json`. Oikeuksiksi on hyvä asettaa 600, jotta muut käyttäjät eivät pääse lukemaan tiedostoa.\n",
    "\n",
    "Nyt voimme ladata datasetin kaggle API:n kautta:"
   ]
  },
  {
   "cell_type": "code",
   "execution_count": 3,
   "metadata": {},
   "outputs": [
    {
     "name": "stdout",
     "output_type": "stream",
     "text": [
      "Downloading web-log-dataset.zip to data\n",
      "  0%|                                                | 0.00/144k [00:00<?, ?B/s]\n",
      "100%|████████████████████████████████████████| 144k/144k [00:00<00:00, 1.90MB/s]\n"
     ]
    }
   ],
   "source": [
    "!kaggle datasets download -p data --unzip shawon10/web-log-dataset"
   ]
  },
  {
   "cell_type": "markdown",
   "metadata": {},
   "source": [
    "Seuraavaksi varmistamme, että data on todellakin siellä, minne halusimme:"
   ]
  },
  {
   "cell_type": "code",
   "execution_count": 4,
   "metadata": {},
   "outputs": [
    {
     "name": "stdout",
     "output_type": "stream",
     "text": [
      "weblog.csv  webLog.csv\r\n"
     ]
    }
   ],
   "source": [
    "!ls ./data"
   ]
  },
  {
   "cell_type": "markdown",
   "metadata": {},
   "source": [
    "Ilmeisesti datasetissä on kaksi merkillisesti nimettyä tiedostoa: `weblog.csv` ja `webLog.csv`. Tutkitaan hieman alustavasti, mikä niissä on homman nimi hyödyntämällä linuxista löytyviä komentoja."
   ]
  },
  {
   "cell_type": "code",
   "execution_count": 18,
   "metadata": {},
   "outputs": [
    {
     "name": "stdout",
     "output_type": "stream",
     "text": [
      "==> data/webLog.csv <==\r\n",
      "\"10.128.2.1\",\"[29/Nov/2017:06:58:55\",\"GET /login.php HTTP/1.1\",\"200\"\r",
      "\r\n",
      "\"10.128.2.1\",\"[29/Nov/2017:06:59:02\",\"POST /process.php HTTP/1.1\",\"302\"\r",
      "\r\n",
      "\"10.128.2.1\",\"[29/Nov/2017:06:59:03\",\"GET /home.php HTTP/1.1\",\"200\"\r",
      "\r\n",
      "\r\n",
      "==> data/weblog.csv <==\r\n",
      "IP,Time,URL,Staus\r",
      "\r\n",
      "10.128.2.1,[29/Nov/2017:06:58:55,GET /login.php HTTP/1.1,200\r",
      "\r\n",
      "10.128.2.1,[29/Nov/2017:06:59:02,POST /process.php HTTP/1.1,302\r",
      "\r\n"
     ]
    }
   ],
   "source": [
    "!head -n3 data/*csv"
   ]
  },
  {
   "cell_type": "markdown",
   "metadata": {},
   "source": [
    "Ilmeisesti ylläoleva ei näy pdf:ssä oikein. Alla tuloste sellaisenaan. Huoh"
   ]
  },
  {
   "cell_type": "code",
   "execution_count": 19,
   "metadata": {},
   "outputs": [
    {
     "name": "stdout",
     "output_type": "stream",
     "text": [
      "==> data/webLog.csv <==\n",
      "\"10.128.2.1\",\"[29/Nov/2017:06:58:55\",\"GET /login.php HTTP/1.1\",\"200\"\n",
      "\"10.128.2.1\",\"[29/Nov/2017:06:59:02\",\"POST /process.php HTTP/1.1\",\"302\"\n",
      "\"10.128.2.1\",\"[29/Nov/2017:06:59:03\",\"GET /home.php HTTP/1.1\",\"200\"\n",
      "\n",
      "==> data/weblog.csv <==\n",
      "IP,Time,URL,Staus\n",
      "10.128.2.1,[29/Nov/2017:06:58:55,GET /login.php HTTP/1.1,200\n",
      "10.128.2.1,[29/Nov/2017:06:59:02,POST /process.php HTTP/1.1,302\n",
      "\n"
     ]
    }
   ],
   "source": [
    "print('''==> data/webLog.csv <==\n",
    "\"10.128.2.1\",\"[29/Nov/2017:06:58:55\",\"GET /login.php HTTP/1.1\",\"200\"\n",
    "\"10.128.2.1\",\"[29/Nov/2017:06:59:02\",\"POST /process.php HTTP/1.1\",\"302\"\n",
    "\"10.128.2.1\",\"[29/Nov/2017:06:59:03\",\"GET /home.php HTTP/1.1\",\"200\"\n",
    "\n",
    "==> data/weblog.csv <==\n",
    "IP,Time,URL,Staus\n",
    "10.128.2.1,[29/Nov/2017:06:58:55,GET /login.php HTTP/1.1,200\n",
    "10.128.2.1,[29/Nov/2017:06:59:02,POST /process.php HTTP/1.1,302\n",
    "''')"
   ]
  },
  {
   "cell_type": "markdown",
   "metadata": {},
   "source": [
    "Haa! Ilmeisesti `webLog.csv`-tiedostossa merkkijonot ovat heittomerkkien sisällä ja `weblog.csv`-tiedostossa on myös header-rivi."
   ]
  },
  {
   "cell_type": "markdown",
   "metadata": {},
   "source": [
    "## Hyödylliset linkit\n",
    "- https://github.com/Kaggle/kaggle-api"
   ]
  },
  {
   "cell_type": "markdown",
   "metadata": {},
   "source": [
    "## Erityisen helpot tai vaikeat asiat\n",
    "Erityisen helppoa itselleni oli datan tutkiminen komentoriviltä (tai tässä tilanteessa jupyterin välityksellä). Oli mukava huomata, että !-merkillä pystyy ajamaan komentoja kuin suoraan komentoriviltä.\n",
    "\n",
    "Hankalin asia oli saada kaggle API toimimaan oikein. Ensin asensin sen väärään ympäristöön (venv) ja muuta hassua, mutta siitä selvittiin.\n",
    "\n",
    "Datan löytäminen olisi saattanut olla vaikeaa, mutta minulla kävi tuuri, kun datasetti löytyi nopeasti."
   ]
  }
 ],
 "metadata": {
  "kernelspec": {
   "display_name": "Python 3",
   "language": "python",
   "name": "python3"
  },
  "language_info": {
   "codemirror_mode": {
    "name": "ipython",
    "version": 3
   },
   "file_extension": ".py",
   "mimetype": "text/x-python",
   "name": "python",
   "nbconvert_exporter": "python",
   "pygments_lexer": "ipython3",
   "version": "3.6.7"
  }
 },
 "nbformat": 4,
 "nbformat_minor": 2
}
