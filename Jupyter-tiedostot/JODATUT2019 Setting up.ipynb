{
 "cells": [
  {
   "cell_type": "markdown",
   "metadata": {},
   "source": [
    "# Setting up Jupyter on your own server\n",
    "\n",
    "```\n",
    "Nimi: Petri Salminen\n",
    "Opnum: 243840\n",
    "Email: petri.salminen@tuni.fi\n",
    "```\n",
    "So you got your server up and running and you would like to have a way to run Jupyter?"
   ]
  },
  {
   "cell_type": "markdown",
   "metadata": {},
   "source": [
    "## Installation\n",
    "\n",
    "Install necessary Python packages: `sudo apt install python3-pip python3-dev`\n",
    "\n",
    "Make sure that Pip is up-to-date: `sudo -H pip3 install --upgrade pip`\n",
    "\n",
    "Install virtualenv: `sudo -H pip3 install virtualenv`\n",
    "\n",
    "Make a directory for the jupyter and cd in there: `mkdir jupyter && cd jupyter`\n",
    "\n",
    "Generate the virtualenv: `virtualenv jupyter_env`\n",
    "\n",
    "Activate the virtualenv: `source jupyet_env/bin/activate`\n",
    "\n",
    "Install jupyter: `pip install jupyter`"
   ]
  },
  {
   "cell_type": "markdown",
   "metadata": {},
   "source": [
    "## Configuration\n",
    "\n",
    "Generate jupyter-stuff: `jupyter notebook --generate-config`\n",
    "\n",
    "Generate password: `jupyter notebook password`\n",
    "\n",
    "Start the jupyter: `jupyter notebook`\n",
    "\n",
    "Set up ssh tunnel from your LOCAL machine with: `ssh -N -L 8888:localhost:8888 petri@remote.com` This just maps your traffic trying to get to `localhost:8888` to `remote.com` using SSH.\n",
    "\n",
    "Then access `http://localhost:8888`. Now you can enjoy your fresh jupyter server! Or can you....?"
   ]
  },
  {
   "cell_type": "markdown",
   "metadata": {},
   "source": [
    "## Problems emerge\n",
    "\n",
    "However, the jupyter is unable to connect to python kernel, so running any code is kind of hard. This is actually a problem on the server. There were 404 (Not found) and 405 (Method not allowed) for GET calls to `/api/kernels/kernelhash/channels?session_id=sessionhash`. For some reason (could be firewall, for example) the GET was not responded correctly.\n",
    "\n",
    "This was solved by adding a configuration block to nginx (web server), which would allow the requests and the use of websockets. The config can be found from https://github.com/jupyter/notebook/issues/2664#issuecomment-346249652"
   ]
  },
  {
   "cell_type": "markdown",
   "metadata": {},
   "source": [
    "## What next?\n",
    "\n",
    "I will probably want to make the jupyter work with my domain HTTPS instead of clunky SSH tunnel. With a strong password this should not introduce too much security issues."
   ]
  },
  {
   "cell_type": "markdown",
   "metadata": {},
   "source": [
    "## Update\n",
    "\n",
    "I managed to get the HTTPS working! https://jupyter-notebook.readthedocs.io/en/stable/public_server.html#notebook-public-server helped a lot and http://www.albertauyeung.com/post/setup-jupyter-nginx-supervisor/ was nice too.\n",
    "\n",
    "I stumbled across a probelm where I got `[W 10:33:45.605 NotebookApp] SSL Error on 8 ('127.0.0.1', 33996): [SSL: HTTP_REQUEST] http request (_ssl.c:847)` from the Jupyter server. This was resolved by adding http-> https to the proxy_pass clause in nginx config.\n",
    "\n",
    "The notebook is available (behind a password) in https://salminen.dev/notebook"
   ]
  },
  {
   "cell_type": "code",
   "execution_count": null,
   "metadata": {},
   "outputs": [],
   "source": []
  }
 ],
 "metadata": {
  "kernelspec": {
   "display_name": "Python 3",
   "language": "python",
   "name": "python3"
  },
  "language_info": {
   "codemirror_mode": {
    "name": "ipython",
    "version": 3
   },
   "file_extension": ".py",
   "mimetype": "text/x-python",
   "name": "python",
   "nbconvert_exporter": "python",
   "pygments_lexer": "ipython3",
   "version": "3.6.7"
  }
 },
 "nbformat": 4,
 "nbformat_minor": 2
}
