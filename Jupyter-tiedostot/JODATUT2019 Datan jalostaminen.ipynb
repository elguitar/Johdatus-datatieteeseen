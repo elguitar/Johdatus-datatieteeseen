{
 "cells": [
  {
   "cell_type": "markdown",
   "metadata": {},
   "source": [
    "# JODATUT2019 Datan jalostaminen\n",
    "```\n",
    "Nimi: Petri Salminen\n",
    "Opnum: 243840\n",
    "Email: petri.salminen@tuni.fi\n",
    "```"
   ]
  },
  {
   "cell_type": "markdown",
   "metadata": {},
   "source": [
    "Jäimmme viimeksi siihen, että saimme datan todistettavasti ladattua jupyteriin. Nyt voimme ladata pandasin ynnä muut kumppanit ja alkaa tutkimaan dataa ja jalostamaan sitä parempaan muotoon."
   ]
  },
  {
   "cell_type": "code",
   "execution_count": 1,
   "metadata": {},
   "outputs": [],
   "source": [
    "import pandas"
   ]
  },
  {
   "cell_type": "markdown",
   "metadata": {},
   "source": [
    "Nyt kun pandas on ladattu, voimme lukea csv-tiedoston. `sep` tarkoittaa erotinmerkkiä tiedostossa"
   ]
  },
  {
   "cell_type": "code",
   "execution_count": 2,
   "metadata": {},
   "outputs": [],
   "source": [
    "df = pandas.read_csv('data/weblog.csv', sep=',')"
   ]
  },
  {
   "cell_type": "code",
   "execution_count": 3,
   "metadata": {},
   "outputs": [
    {
     "data": {
      "text/html": [
       "<div>\n",
       "<style scoped>\n",
       "    .dataframe tbody tr th:only-of-type {\n",
       "        vertical-align: middle;\n",
       "    }\n",
       "\n",
       "    .dataframe tbody tr th {\n",
       "        vertical-align: top;\n",
       "    }\n",
       "\n",
       "    .dataframe thead th {\n",
       "        text-align: right;\n",
       "    }\n",
       "</style>\n",
       "<table border=\"1\" class=\"dataframe\">\n",
       "  <thead>\n",
       "    <tr style=\"text-align: right;\">\n",
       "      <th></th>\n",
       "      <th>IP</th>\n",
       "      <th>Time</th>\n",
       "      <th>URL</th>\n",
       "      <th>Staus</th>\n",
       "    </tr>\n",
       "  </thead>\n",
       "  <tbody>\n",
       "    <tr>\n",
       "      <th>0</th>\n",
       "      <td>10.128.2.1</td>\n",
       "      <td>[29/Nov/2017:06:58:55</td>\n",
       "      <td>GET /login.php HTTP/1.1</td>\n",
       "      <td>200</td>\n",
       "    </tr>\n",
       "    <tr>\n",
       "      <th>1</th>\n",
       "      <td>10.128.2.1</td>\n",
       "      <td>[29/Nov/2017:06:59:02</td>\n",
       "      <td>POST /process.php HTTP/1.1</td>\n",
       "      <td>302</td>\n",
       "    </tr>\n",
       "    <tr>\n",
       "      <th>2</th>\n",
       "      <td>10.128.2.1</td>\n",
       "      <td>[29/Nov/2017:06:59:03</td>\n",
       "      <td>GET /home.php HTTP/1.1</td>\n",
       "      <td>200</td>\n",
       "    </tr>\n",
       "    <tr>\n",
       "      <th>3</th>\n",
       "      <td>10.131.2.1</td>\n",
       "      <td>[29/Nov/2017:06:59:04</td>\n",
       "      <td>GET /js/vendor/moment.min.js HTTP/1.1</td>\n",
       "      <td>200</td>\n",
       "    </tr>\n",
       "    <tr>\n",
       "      <th>4</th>\n",
       "      <td>10.130.2.1</td>\n",
       "      <td>[29/Nov/2017:06:59:06</td>\n",
       "      <td>GET /bootstrap-3.3.7/js/bootstrap.js HTTP/1.1</td>\n",
       "      <td>200</td>\n",
       "    </tr>\n",
       "  </tbody>\n",
       "</table>\n",
       "</div>"
      ],
      "text/plain": [
       "           IP                   Time  \\\n",
       "0  10.128.2.1  [29/Nov/2017:06:58:55   \n",
       "1  10.128.2.1  [29/Nov/2017:06:59:02   \n",
       "2  10.128.2.1  [29/Nov/2017:06:59:03   \n",
       "3  10.131.2.1  [29/Nov/2017:06:59:04   \n",
       "4  10.130.2.1  [29/Nov/2017:06:59:06   \n",
       "\n",
       "                                             URL Staus  \n",
       "0                        GET /login.php HTTP/1.1   200  \n",
       "1                     POST /process.php HTTP/1.1   302  \n",
       "2                         GET /home.php HTTP/1.1   200  \n",
       "3          GET /js/vendor/moment.min.js HTTP/1.1   200  \n",
       "4  GET /bootstrap-3.3.7/js/bootstrap.js HTTP/1.1   200  "
      ]
     },
     "execution_count": 3,
     "metadata": {},
     "output_type": "execute_result"
    }
   ],
   "source": [
    "df.head()"
   ]
  },
  {
   "cell_type": "markdown",
   "metadata": {},
   "source": [
    "Näyttää hyvältä! Katsotaan, onko data puutteellista"
   ]
  },
  {
   "cell_type": "code",
   "execution_count": 4,
   "metadata": {},
   "outputs": [
    {
     "data": {
      "text/plain": [
       "IP       0\n",
       "Time     0\n",
       "URL      0\n",
       "Staus    0\n",
       "dtype: int64"
      ]
     },
     "execution_count": 4,
     "metadata": {},
     "output_type": "execute_result"
    }
   ],
   "source": [
    "df.isna().sum()"
   ]
  },
  {
   "cell_type": "markdown",
   "metadata": {},
   "source": [
    "Näyttää hyvältä! Katsotaan, mihin muotoon pandas on lukenut tiedot"
   ]
  },
  {
   "cell_type": "code",
   "execution_count": 5,
   "metadata": {},
   "outputs": [
    {
     "name": "stdout",
     "output_type": "stream",
     "text": [
      "<class 'pandas.core.frame.DataFrame'>\n",
      "RangeIndex: 16007 entries, 0 to 16006\n",
      "Data columns (total 4 columns):\n",
      "IP       16007 non-null object\n",
      "Time     16007 non-null object\n",
      "URL      16007 non-null object\n",
      "Staus    16007 non-null object\n",
      "dtypes: object(4)\n",
      "memory usage: 500.3+ KB\n"
     ]
    }
   ],
   "source": [
    "df.info()"
   ]
  },
  {
   "cell_type": "markdown",
   "metadata": {},
   "source": [
    "Näköjään kaikki on luettu objecteiksi (merkkijono). Muutetaan Staus-kolumnin nimi Statukseksi ja koitetaan muuntaa tyyppi numeroksi."
   ]
  },
  {
   "cell_type": "code",
   "execution_count": 6,
   "metadata": {},
   "outputs": [
    {
     "data": {
      "text/plain": [
       "Status\n",
       "200             11330\n",
       "2017]               7\n",
       "2018]              28\n",
       "206                52\n",
       "302              3498\n",
       "304               658\n",
       "404               251\n",
       "Aborted             4\n",
       "Assertion           4\n",
       "No                167\n",
       "Segmentation        1\n",
       "dumped              5\n",
       "found               2\n",
       "dtype: int64"
      ]
     },
     "execution_count": 6,
     "metadata": {},
     "output_type": "execute_result"
    }
   ],
   "source": [
    "df.rename(columns={'Staus':'Status'}, inplace=True)\n",
    "\n",
    "#df = df.astype({\"IP\":object, \"Time\":object, \"URL\":object, \"Status\":int}) # Tämä meni mönkään, koska siellä oli jotain likaista\n",
    "df.groupby('Status').size()"
   ]
  },
  {
   "cell_type": "code",
   "execution_count": 7,
   "metadata": {},
   "outputs": [],
   "source": [
    "df = df[df[\"Status\"].apply(lambda x: x.isnumeric())] # Heitä roskiin ylimääräiset \n",
    "df = df.astype({\"IP\":object, \"Time\":object, \"URL\":object, \"Status\":int}) # Nyt tämä toimii :)"
   ]
  },
  {
   "cell_type": "markdown",
   "metadata": {},
   "source": [
    "Tehdään sama IP-sarakkeelle. IPv4-osoitteen pystyy muuttamaan numeroksi. Ohjeet esimerkiksi ohjeessa [\"How to convert ip addresses to decimal format](https://itstillworks.com/convert-ip-addresses-decimal-format-7611714.html)."
   ]
  },
  {
   "cell_type": "code",
   "execution_count": 8,
   "metadata": {},
   "outputs": [],
   "source": [
    "def ip_to_int(ip):\n",
    "    ip_a = ip.split('.')\n",
    "    return int(ip_a[0])*256**3+int(ip_a[1])*256**2+int(ip_a[2])*256**1+int(ip_a[3])\n",
    "\n",
    "df['IP'] = df['IP'].apply(lambda x: ip_to_int(x))"
   ]
  },
  {
   "cell_type": "code",
   "execution_count": 9,
   "metadata": {},
   "outputs": [
    {
     "data": {
      "text/html": [
       "<div>\n",
       "<style scoped>\n",
       "    .dataframe tbody tr th:only-of-type {\n",
       "        vertical-align: middle;\n",
       "    }\n",
       "\n",
       "    .dataframe tbody tr th {\n",
       "        vertical-align: top;\n",
       "    }\n",
       "\n",
       "    .dataframe thead th {\n",
       "        text-align: right;\n",
       "    }\n",
       "</style>\n",
       "<table border=\"1\" class=\"dataframe\">\n",
       "  <thead>\n",
       "    <tr style=\"text-align: right;\">\n",
       "      <th></th>\n",
       "      <th>IP</th>\n",
       "      <th>Time</th>\n",
       "      <th>URL</th>\n",
       "      <th>Status</th>\n",
       "    </tr>\n",
       "  </thead>\n",
       "  <tbody>\n",
       "    <tr>\n",
       "      <th>0</th>\n",
       "      <td>176161281</td>\n",
       "      <td>[29/Nov/2017:06:58:55</td>\n",
       "      <td>GET /login.php HTTP/1.1</td>\n",
       "      <td>200</td>\n",
       "    </tr>\n",
       "    <tr>\n",
       "      <th>1</th>\n",
       "      <td>176161281</td>\n",
       "      <td>[29/Nov/2017:06:59:02</td>\n",
       "      <td>POST /process.php HTTP/1.1</td>\n",
       "      <td>302</td>\n",
       "    </tr>\n",
       "    <tr>\n",
       "      <th>2</th>\n",
       "      <td>176161281</td>\n",
       "      <td>[29/Nov/2017:06:59:03</td>\n",
       "      <td>GET /home.php HTTP/1.1</td>\n",
       "      <td>200</td>\n",
       "    </tr>\n",
       "    <tr>\n",
       "      <th>3</th>\n",
       "      <td>176357889</td>\n",
       "      <td>[29/Nov/2017:06:59:04</td>\n",
       "      <td>GET /js/vendor/moment.min.js HTTP/1.1</td>\n",
       "      <td>200</td>\n",
       "    </tr>\n",
       "    <tr>\n",
       "      <th>4</th>\n",
       "      <td>176292353</td>\n",
       "      <td>[29/Nov/2017:06:59:06</td>\n",
       "      <td>GET /bootstrap-3.3.7/js/bootstrap.js HTTP/1.1</td>\n",
       "      <td>200</td>\n",
       "    </tr>\n",
       "  </tbody>\n",
       "</table>\n",
       "</div>"
      ],
      "text/plain": [
       "          IP                   Time  \\\n",
       "0  176161281  [29/Nov/2017:06:58:55   \n",
       "1  176161281  [29/Nov/2017:06:59:02   \n",
       "2  176161281  [29/Nov/2017:06:59:03   \n",
       "3  176357889  [29/Nov/2017:06:59:04   \n",
       "4  176292353  [29/Nov/2017:06:59:06   \n",
       "\n",
       "                                             URL  Status  \n",
       "0                        GET /login.php HTTP/1.1     200  \n",
       "1                     POST /process.php HTTP/1.1     302  \n",
       "2                         GET /home.php HTTP/1.1     200  \n",
       "3          GET /js/vendor/moment.min.js HTTP/1.1     200  \n",
       "4  GET /bootstrap-3.3.7/js/bootstrap.js HTTP/1.1     200  "
      ]
     },
     "execution_count": 9,
     "metadata": {},
     "output_type": "execute_result"
    }
   ],
   "source": [
    "df.head()"
   ]
  },
  {
   "cell_type": "markdown",
   "metadata": {},
   "source": [
    "Dodiin! Seuraavaksi käykäämme Time kimppuun. Kyseessä on Datetime-muuttuja. Kokeillaan muuttaa sitä suoraan."
   ]
  },
  {
   "cell_type": "code",
   "execution_count": 10,
   "metadata": {},
   "outputs": [],
   "source": [
    "df['Time'] = pandas.to_datetime(df['Time'], format=\"[%d/%b/%Y:%H:%M:%S\")"
   ]
  },
  {
   "cell_type": "code",
   "execution_count": 11,
   "metadata": {},
   "outputs": [
    {
     "data": {
      "text/html": [
       "<div>\n",
       "<style scoped>\n",
       "    .dataframe tbody tr th:only-of-type {\n",
       "        vertical-align: middle;\n",
       "    }\n",
       "\n",
       "    .dataframe tbody tr th {\n",
       "        vertical-align: top;\n",
       "    }\n",
       "\n",
       "    .dataframe thead th {\n",
       "        text-align: right;\n",
       "    }\n",
       "</style>\n",
       "<table border=\"1\" class=\"dataframe\">\n",
       "  <thead>\n",
       "    <tr style=\"text-align: right;\">\n",
       "      <th></th>\n",
       "      <th>IP</th>\n",
       "      <th>Time</th>\n",
       "      <th>URL</th>\n",
       "      <th>Status</th>\n",
       "    </tr>\n",
       "  </thead>\n",
       "  <tbody>\n",
       "    <tr>\n",
       "      <th>0</th>\n",
       "      <td>176161281</td>\n",
       "      <td>2017-11-29 06:58:55</td>\n",
       "      <td>GET /login.php HTTP/1.1</td>\n",
       "      <td>200</td>\n",
       "    </tr>\n",
       "    <tr>\n",
       "      <th>1</th>\n",
       "      <td>176161281</td>\n",
       "      <td>2017-11-29 06:59:02</td>\n",
       "      <td>POST /process.php HTTP/1.1</td>\n",
       "      <td>302</td>\n",
       "    </tr>\n",
       "    <tr>\n",
       "      <th>2</th>\n",
       "      <td>176161281</td>\n",
       "      <td>2017-11-29 06:59:03</td>\n",
       "      <td>GET /home.php HTTP/1.1</td>\n",
       "      <td>200</td>\n",
       "    </tr>\n",
       "    <tr>\n",
       "      <th>3</th>\n",
       "      <td>176357889</td>\n",
       "      <td>2017-11-29 06:59:04</td>\n",
       "      <td>GET /js/vendor/moment.min.js HTTP/1.1</td>\n",
       "      <td>200</td>\n",
       "    </tr>\n",
       "    <tr>\n",
       "      <th>4</th>\n",
       "      <td>176292353</td>\n",
       "      <td>2017-11-29 06:59:06</td>\n",
       "      <td>GET /bootstrap-3.3.7/js/bootstrap.js HTTP/1.1</td>\n",
       "      <td>200</td>\n",
       "    </tr>\n",
       "  </tbody>\n",
       "</table>\n",
       "</div>"
      ],
      "text/plain": [
       "          IP                Time  \\\n",
       "0  176161281 2017-11-29 06:58:55   \n",
       "1  176161281 2017-11-29 06:59:02   \n",
       "2  176161281 2017-11-29 06:59:03   \n",
       "3  176357889 2017-11-29 06:59:04   \n",
       "4  176292353 2017-11-29 06:59:06   \n",
       "\n",
       "                                             URL  Status  \n",
       "0                        GET /login.php HTTP/1.1     200  \n",
       "1                     POST /process.php HTTP/1.1     302  \n",
       "2                         GET /home.php HTTP/1.1     200  \n",
       "3          GET /js/vendor/moment.min.js HTTP/1.1     200  \n",
       "4  GET /bootstrap-3.3.7/js/bootstrap.js HTTP/1.1     200  "
      ]
     },
     "execution_count": 11,
     "metadata": {},
     "output_type": "execute_result"
    }
   ],
   "source": [
    "df.head()"
   ]
  },
  {
   "cell_type": "markdown",
   "metadata": {},
   "source": [
    "Mahtavaa! Nyt vielä jos URL-kolumnin saisi parempaan kuntoon. Muodostetaan siitä useampi sarake."
   ]
  },
  {
   "cell_type": "code",
   "execution_count": 12,
   "metadata": {},
   "outputs": [],
   "source": [
    "df['RequestType'], df['URL'], df['HttpVersion'] = df['URL'].str.split(' ', 2).str\n",
    "df['HttpVersion'] = df['HttpVersion'].apply(lambda x: x.split(\"/\")[1])"
   ]
  },
  {
   "cell_type": "code",
   "execution_count": 13,
   "metadata": {},
   "outputs": [
    {
     "data": {
      "text/html": [
       "<div>\n",
       "<style scoped>\n",
       "    .dataframe tbody tr th:only-of-type {\n",
       "        vertical-align: middle;\n",
       "    }\n",
       "\n",
       "    .dataframe tbody tr th {\n",
       "        vertical-align: top;\n",
       "    }\n",
       "\n",
       "    .dataframe thead th {\n",
       "        text-align: right;\n",
       "    }\n",
       "</style>\n",
       "<table border=\"1\" class=\"dataframe\">\n",
       "  <thead>\n",
       "    <tr style=\"text-align: right;\">\n",
       "      <th></th>\n",
       "      <th>IP</th>\n",
       "      <th>Time</th>\n",
       "      <th>URL</th>\n",
       "      <th>Status</th>\n",
       "      <th>RequestType</th>\n",
       "      <th>HttpVersion</th>\n",
       "    </tr>\n",
       "  </thead>\n",
       "  <tbody>\n",
       "    <tr>\n",
       "      <th>0</th>\n",
       "      <td>176161281</td>\n",
       "      <td>2017-11-29 06:58:55</td>\n",
       "      <td>/login.php</td>\n",
       "      <td>200</td>\n",
       "      <td>GET</td>\n",
       "      <td>1.1</td>\n",
       "    </tr>\n",
       "    <tr>\n",
       "      <th>1</th>\n",
       "      <td>176161281</td>\n",
       "      <td>2017-11-29 06:59:02</td>\n",
       "      <td>/process.php</td>\n",
       "      <td>302</td>\n",
       "      <td>POST</td>\n",
       "      <td>1.1</td>\n",
       "    </tr>\n",
       "    <tr>\n",
       "      <th>2</th>\n",
       "      <td>176161281</td>\n",
       "      <td>2017-11-29 06:59:03</td>\n",
       "      <td>/home.php</td>\n",
       "      <td>200</td>\n",
       "      <td>GET</td>\n",
       "      <td>1.1</td>\n",
       "    </tr>\n",
       "    <tr>\n",
       "      <th>3</th>\n",
       "      <td>176357889</td>\n",
       "      <td>2017-11-29 06:59:04</td>\n",
       "      <td>/js/vendor/moment.min.js</td>\n",
       "      <td>200</td>\n",
       "      <td>GET</td>\n",
       "      <td>1.1</td>\n",
       "    </tr>\n",
       "    <tr>\n",
       "      <th>4</th>\n",
       "      <td>176292353</td>\n",
       "      <td>2017-11-29 06:59:06</td>\n",
       "      <td>/bootstrap-3.3.7/js/bootstrap.js</td>\n",
       "      <td>200</td>\n",
       "      <td>GET</td>\n",
       "      <td>1.1</td>\n",
       "    </tr>\n",
       "  </tbody>\n",
       "</table>\n",
       "</div>"
      ],
      "text/plain": [
       "          IP                Time                               URL  Status  \\\n",
       "0  176161281 2017-11-29 06:58:55                        /login.php     200   \n",
       "1  176161281 2017-11-29 06:59:02                      /process.php     302   \n",
       "2  176161281 2017-11-29 06:59:03                         /home.php     200   \n",
       "3  176357889 2017-11-29 06:59:04          /js/vendor/moment.min.js     200   \n",
       "4  176292353 2017-11-29 06:59:06  /bootstrap-3.3.7/js/bootstrap.js     200   \n",
       "\n",
       "  RequestType HttpVersion  \n",
       "0         GET         1.1  \n",
       "1        POST         1.1  \n",
       "2         GET         1.1  \n",
       "3         GET         1.1  \n",
       "4         GET         1.1  "
      ]
     },
     "execution_count": 13,
     "metadata": {},
     "output_type": "execute_result"
    }
   ],
   "source": [
    "df.head()"
   ]
  },
  {
   "cell_type": "markdown",
   "metadata": {},
   "source": [
    "Nyt data alkaa näyttämään siltä, että sitä voisi hyödyntää analyysissä! WOOHOO! Kirjoitetaan data uuteen tiedostoon, jotta tätä siivousta ei tarvitse missään nimessä tehdä uudestaan."
   ]
  },
  {
   "cell_type": "code",
   "execution_count": 14,
   "metadata": {},
   "outputs": [],
   "source": [
    "df.to_csv('data/weblog_clean.csv', sep=\",\")"
   ]
  },
  {
   "cell_type": "markdown",
   "metadata": {},
   "source": [
    "## Hyödylliset linkit\n",
    "- [Pandasin koko dokumentaatio](https://pandas.pydata.org/pandas-docs/stable/reference/api/pandas.read_csv.html#pandas.read_csv). Esimerkkinä read_csv\n",
    "- [\"How to convert ip addresses to decimal format](https://itstillworks.com/convert-ip-addresses-decimal-format-7611714.html)"
   ]
  },
  {
   "cell_type": "markdown",
   "metadata": {},
   "source": [
    "## Erityisen helpot ja hankalat asiat\n",
    "ohjeessa\n",
    "- Hankalin asia se, että koko ajan oli takaraivossa ajatus siitä, että teen turhaa työtä tätä näin siivoessani. Kumminkin loppujen lopuksi kaikki vaikuttaa hyvältä :)\n",
    "- Jupyter + pandas sopi tähän erittäin hienosti!     "
   ]
  },
  {
   "cell_type": "code",
   "execution_count": null,
   "metadata": {},
   "outputs": [],
   "source": []
  }
 ],
 "metadata": {
  "kernelspec": {
   "display_name": "Python 3",
   "language": "python",
   "name": "python3"
  },
  "language_info": {
   "codemirror_mode": {
    "name": "ipython",
    "version": 3
   },
   "file_extension": ".py",
   "mimetype": "text/x-python",
   "name": "python",
   "nbconvert_exporter": "python",
   "pygments_lexer": "ipython3",
   "version": "3.6.7"
  }
 },
 "nbformat": 4,
 "nbformat_minor": 2
}
