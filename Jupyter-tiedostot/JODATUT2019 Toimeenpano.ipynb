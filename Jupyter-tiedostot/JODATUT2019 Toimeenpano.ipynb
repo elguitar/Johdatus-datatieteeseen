{
 "cells": [
  {
   "cell_type": "markdown",
   "metadata": {},
   "source": [
    "# Toimeenpano\n",
    "```\n",
    "Nimi: Petri Salminen\n",
    "Opnum: 243840\n",
    "Email: petri.salminen@tuni.fi\n",
    "```\n",
    "Tajusin koneoppimisen jälkeen, että eihän tästä kyllä mitään raporttia synny. Sen takia päädyin rakentamaan API:n, jonka kautta pystyy kokeilemaan, sopiiko jokin HTTP-pyyntö aiemmin rakennettuun malliin. Alla on aikalailla nähtävissä, miten tällainen API yksinkertaisuudessaan rakentuu."
   ]
  },
  {
   "cell_type": "code",
   "execution_count": null,
   "metadata": {},
   "outputs": [],
   "source": [
    "# Import flask stuff\n",
    "from flask import request\n",
    "from flask_api import FlaskAPI\n",
    "\n",
    "# Import sklearn stuff\n",
    "# Not sure if these are needed\n",
    "from sklearn.preprocessing import OneHotEncoder, StandardScaler\n",
    "from sklearn.neighbors import LocalOutlierFactor\n",
    "\n",
    "# Import pickle\n",
    "import pickle\n",
    "\n",
    "# Import datetime\n",
    "from datetime import datetime\n",
    "\n",
    "# Import numpy\n",
    "from numpy import array, concatenate\n",
    "\n",
    "# Import json\n",
    "import json\n",
    "\n",
    "# Couple of helper-functions\n",
    "def IP_to_int(ip):\n",
    "    ip_a = ip.split('.')\n",
    "    return int(ip_a[0])*256**3+int(ip_a[1])*256**2+int(ip_a[2])*256**1+int(ip_a[3])\n",
    "\n",
    "def time_to_timestamp(time_str):\n",
    "    return int(datetime.timestamp(datetime.strptime(time_str, \"%d/%b/%Y:%H:%M:%S\"))) # Example: 05/May/2019:07:53:22 \n"
   ]
  },
  {
   "cell_type": "markdown",
   "metadata": {},
   "source": [
    "Tämä seuraava steppi pitänee selittää kunnolla auki. Tein niin, että talletin localoutlierfactor-modelin, standardscalerin ja onehotencoderin picklellä levylle. Sitten API:n __käynnistyessä__ (ei tapahdu joka pyynnöllä), ladataan kaikki kirjastot ja levyltä kyseiset muuttujat."
   ]
  },
  {
   "cell_type": "code",
   "execution_count": null,
   "metadata": {},
   "outputs": [],
   "source": [
    "# Reload the pickled model and other stuff\n",
    "with open('detector.model', 'rb') as f:\n",
    "    detector = pickle.load(f)\n",
    "with open('scaler.pickle', 'rb') as f:\n",
    "    scaler = pickle.load(f)\n",
    "with open('encoder.pickle', 'rb') as f:\n",
    "    enc = pickle.load(f)\n",
    "    enc.set_params(handle_unknown='ignore')\n",
    "\n",
    "app = FlaskAPI(__name__)\n",
    "\n",
    "@app.route('/loganalyze/', methods=['GET'])\n",
    "def loganalyze():\n",
    "    # get the previously pickled variables\n",
    "    global detector\n",
    "    global scaler\n",
    "    global enc\n",
    "    \n",
    "    # Convert the values on-the-fly\n",
    "    ip = IP_to_int(request.args.get('ip'))\n",
    "    http_version = request.args.get('http_version')\n",
    "    timestamp = time_to_timestamp(request.args.get('time'))\n",
    "    status = request.args.get('status')\n",
    "\n",
    "    # Temporary array for the already calculated values\n",
    "    tmp_a = array([ip, status, http_version, timestamp])\n",
    "\n",
    "    # Then, the OH-encoding for url\n",
    "    url = request.args.get('url')\n",
    "    url_encoded = enc.transform([[url]])\n",
    "\n",
    "    # Put the arrays together\n",
    "    concated_a = array(concatenate((tmp_a, url_encoded[0]))).reshape(1,-1)\n",
    "\n",
    "    # Scale them\n",
    "    scaled_a = scaler.transform(concated_a)\n",
    "\n",
    "    # Finally, predict and return\n",
    "    return json.dumps({\"detection\": int(detector.predict(scaled_a)[0])})\n",
    "\n",
    "app.run(debug=True)"
   ]
  },
  {
   "cell_type": "markdown",
   "metadata": {},
   "source": [
    "Nyt kun ajaa `python api.py`, käynnistyy API nätisti ja sille pystyy lähettämään GET-pyyntöjä polkuun /loganalyze/. Tällä hetkellä virheenkäsittely on vielä olematonta, ja palvelin kaatuu, mikäli jokin parametreista puuttuu.\n",
    "\n",
    "APIa voi testata esimerkiksi: https://salminen.dev/loganalyze/?ip=192.168.1.1&http_version=1.1&time=05/May/2019:07:47:51&status=200&url=/index.php. Olen tyytyväinen kyseisen mallin nopeuteen, sillä yhden rivin ajamiseen ei kulu paljoakaan aikaa:\n",
    "```\n",
    "$ time curl -L 'https://salminen.dev/loganalyze/?ip=192.168.1.1&http_version=1.1&time=05/May/2019:07:47:51&status=200&url=/index.php'\n",
    "{\"detection\": -1}\n",
    "real\t0m0.076s\n",
    "user\t0m0.018s\n",
    "sys\t0m0.006s\n",
    "```\n",
    "\n",
    "Toki lähtödatan puitteissa kyseinen detector on suhteellisen hyödytön, koska se pitää suunnilleen kaikkea ei-sopivana malliin. Koen silti tämän harjoitustyön onnistuneeksi, sillä samaa mallia voisi hyödyntää myös monimutkaisemman datasetin kanssa, jolloin saataisiin oikeasti hyödyllinen työkalu."
   ]
  },
  {
   "cell_type": "markdown",
   "metadata": {},
   "source": [
    "## Hyödylliset linkit\n",
    "- [Flask-Apin dokumentaatio](https://github.com/flask-api/flask-api)\n",
    "- [Apuja datetimen muuttamiseksi timestampiksi](https://www.programiz.com/python-programming/datetime/timestamp-datetime)\n",
    "\n",
    "## Helpot ja hankalat asiat\n",
    "- Tämä oli yllättävän helppo homma. Flask-Api oli juurikin niin näppärä kuin uskalsin odottaa!\n",
    "- Picklellä modelin yms. siirtäminen oli myös erittäin helppo homma\n",
    "- Hankalin homma oli saada kyseinen testi-Flask-palvelin näkymään ulkomaailmalle nginx-konffien avulla. Siitäkin selvittiin kumminkin :)"
   ]
  },
  {
   "cell_type": "code",
   "execution_count": null,
   "metadata": {},
   "outputs": [],
   "source": []
  }
 ],
 "metadata": {
  "kernelspec": {
   "display_name": "Python 3",
   "language": "python",
   "name": "python3"
  },
  "language_info": {
   "codemirror_mode": {
    "name": "ipython",
    "version": 3
   },
   "file_extension": ".py",
   "mimetype": "text/x-python",
   "name": "python",
   "nbconvert_exporter": "python",
   "pygments_lexer": "ipython3",
   "version": "3.6.7"
  }
 },
 "nbformat": 4,
 "nbformat_minor": 2
}
